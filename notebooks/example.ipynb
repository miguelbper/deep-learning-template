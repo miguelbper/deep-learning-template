{
 "cells": [
  {
   "cell_type": "markdown",
   "metadata": {},
   "source": [
    "# Problem Understanding"
   ]
  },
  {
   "cell_type": "markdown",
   "metadata": {},
   "source": [
    "Answer these questions:\n",
    "- [ ] What kind of ML problem is this? (Classification, Regression, Ranking, …)\n",
    "- [ ] What is the target?\n",
    "- [ ] What is the evaluation metric?\n",
    "- [ ] What kind of dataset are we given? What types of files?\n",
    "- [ ] What is the submission format and rules?\n"
   ]
  },
  {
   "cell_type": "markdown",
   "metadata": {
    "vscode": {
     "languageId": "plaintext"
    }
   },
   "source": [
    "After, create the simplest possible submission / end-to-end pipeline"
   ]
  },
  {
   "cell_type": "markdown",
   "metadata": {},
   "source": [
    "# Exploratory Data Analysis and Data Cleaning"
   ]
  },
  {
   "cell_type": "markdown",
   "metadata": {},
   "source": [
    "Data Cleaning. Goal: go from raw to processed dataset\n",
    "- [ ] Missing values. May drop row/column or impute (default, placeholder, mean/median/mode, forward/backward fill, ...)\n",
    "- [ ] Outliers\n",
    "- [ ] Data types. Fill with correct datatype (`int64`, `float64`, `bool`, `datetime64`, `timedelta[ns]`, `category`)\n",
    "- [ ] Duplicate rows or columns\n",
    "- [ ] Inconsistent formatting (ex.: categorical variable \"male\" / \"MALE\")\n",
    "- [ ] Invalid values (ex.: negative ages, future timestamps)"
   ]
  },
  {
   "cell_type": "markdown",
   "metadata": {},
   "source": [
    "Exploratory Data Analysis. Goal: understand (joint) distribution of the data\n",
    "- [ ] General Dataset Structure (`df.info()` , `df.head()` , `df.describe()`)\n",
    "- [ ] Univariate Analysis (plot distribution of variable)\n",
    "- [ ] Bivariate Analysis (plot joint distribution of feature with target)\n",
    "- [ ] Correlation Analysis (compute correlation matrix between all features + target)\n",
    "Hint: create functions that can be applied to all features. Ex.: `univariate_analysis_numerical` and `univariate_analysis_categorical`"
   ]
  },
  {
   "cell_type": "markdown",
   "metadata": {},
   "source": [
    "# Feature Engineering"
   ]
  },
  {
   "cell_type": "markdown",
   "metadata": {},
   "source": [
    "Goal: 1. Create numerical features that the model will use, 2. Create the DataModule (dataset loading, splits, transforms)\n",
    "- [ ] Categorical Features (Label, One-Hot, Ordinal, Frequency, Target/Mean)\n",
    "- [ ] Scaling / Normalization / Transformation\n",
    "- [ ] Create new features"
   ]
  },
  {
   "cell_type": "markdown",
   "metadata": {},
   "source": [
    "# Model Training"
   ]
  },
  {
   "cell_type": "markdown",
   "metadata": {
    "vscode": {
     "languageId": "plaintext"
    }
   },
   "source": [
    "For each model / idea:\n",
    "\n",
    "- [parameters] Train on train, evaluate on val. Sanity check model to see if it is worth finding best hyperparameters\n",
    "- [hyperparameters] Use HPO (via simple multirun / grid search) on train / val to select best hyperparameters\n",
    "- [evaluation] Retrain on train + val, evaluate on test\n",
    "\n",
    "Use simple models as baselines, then beat those with stronger models"
   ]
  },
  {
   "cell_type": "markdown",
   "metadata": {},
   "source": [
    "# Model Submission"
   ]
  },
  {
   "cell_type": "markdown",
   "metadata": {
    "vscode": {
     "languageId": "plaintext"
    }
   },
   "source": [
    "Ensemble various models and create final submission. Here, should use the hopefully already existing submission pipeline"
   ]
  }
 ],
 "metadata": {
  "kernelspec": {
   "display_name": ".venv",
   "language": "python",
   "name": "python3"
  },
  "language_info": {
   "name": "python",
   "version": "3.13.3"
  }
 },
 "nbformat": 4,
 "nbformat_minor": 2
}
